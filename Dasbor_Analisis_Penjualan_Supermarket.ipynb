{
  "nbformat": 4,
  "nbformat_minor": 0,
  "metadata": {
    "colab": {
      "provenance": []
    },
    "kernelspec": {
      "name": "python3",
      "display_name": "Python 3"
    },
    "language_info": {
      "name": "python"
    }
  },
  "cells": [
    {
      "cell_type": "code",
      "execution_count": null,
      "metadata": {
        "id": "7RE4017_Xf3h"
      },
      "outputs": [],
      "source": [
        "import pandas as pd\n",
        "\n",
        "nama_file = 'SuperMarket Analysis.csv'\n",
        "df = pd.read_csv(nama_file)\n",
        "df.head()\n",
        "\n"
      ]
    },
    {
      "cell_type": "code",
      "source": [
        "df.info()\n",
        "\n",
        "print(\"\\nJumlah data yang kosong di setiap kolom:\")\n",
        "# Hitung data kosong di setiap kolom\n",
        "display(df.isnull().sum())"
      ],
      "metadata": {
        "id": "FoZ8Eam_mblG"
      },
      "execution_count": null,
      "outputs": []
    },
    {
      "cell_type": "code",
      "source": [
        "from google.colab import auth\n",
        "from google.auth import default\n",
        "import gspread\n",
        "from gspread_dataframe import set_with_dataframe\n",
        "\n",
        "# Meminta izin akses\n",
        "auth.authenticate_user()\n",
        "creds, _ = default()\n",
        "gc = gspread.authorize(creds)\n",
        "\n",
        "# Buka spreadsheet berdasarkan namanya (ganti dengan nama sheet Anda)\n",
        "nama_spreadsheet = \"Data Penjualan Supermarket\"\n",
        "spreadsheet = gc.open(nama_spreadsheet)\n",
        "\n",
        "# Pilih worksheet pertama dan kirim data dari DataFrame (df) ke dalamnya\n",
        "worksheet = spreadsheet.sheet1\n",
        "worksheet.clear() # Membersihkan sheet sebelum diisi data baru\n",
        "set_with_dataframe(worksheet, df)\n",
        "\n",
        "print(f\"Data berhasil diekspor ke Google Sheet '{nama_spreadsheet}'!\")"
      ],
      "metadata": {
        "colab": {
          "base_uri": "https://localhost:8080/"
        },
        "id": "4tBTCPUho_mQ",
        "outputId": "e3391ffc-c848-4cfe-cbdd-7191d5b30f77"
      },
      "execution_count": null,
      "outputs": [
        {
          "output_type": "stream",
          "name": "stdout",
          "text": [
            "Data berhasil diekspor ke Google Sheet 'Data Penjualan Supermarket'!\n"
          ]
        }
      ]
    }
  ]
}